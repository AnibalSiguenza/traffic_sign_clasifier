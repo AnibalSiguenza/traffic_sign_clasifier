{
 "cells": [
  {
   "cell_type": "markdown",
   "metadata": {},
   "source": [
    "# Self-Driving Car Engineer Nanodegree\n",
    "\n",
    "## Deep Learning\n",
    "\n",
    "## Project: Build a Traffic Sign Recognition Classifier\n",
    "\n",
    "In this notebook, a template is provided for you to implement your functionality in stages, which is required to successfully complete this project. If additional code is required that cannot be included in the notebook, be sure that the Python code is successfully imported and included in your submission if necessary. \n",
    "\n",
    "> **Note**: Once you have completed all of the code implementations, you need to finalize your work by exporting the iPython Notebook as an HTML document. Before exporting the notebook to html, all of the code cells need to have been run so that reviewers can see the final implementation and output. You can then export the notebook by using the menu above and navigating to  \\n\",\n",
    "    \"**File -> Download as -> HTML (.html)**. Include the finished document along with this notebook as your submission. \n",
    "\n",
    "In addition to implementing code, there is a writeup to complete. The writeup should be completed in a separate file, which can be either a markdown file or a pdf document. There is a [write up template](https://github.com/udacity/CarND-Traffic-Sign-Classifier-Project/blob/master/writeup_template.md) that can be used to guide the writing process. Completing the code template and writeup template will cover all of the [rubric points](https://review.udacity.com/#!/rubrics/481/view) for this project.\n",
    "\n",
    "The [rubric](https://review.udacity.com/#!/rubrics/481/view) contains \"Stand Out Suggestions\" for enhancing the project beyond the minimum requirements. The stand out suggestions are optional. If you decide to pursue the \"stand out suggestions\", you can include the code in this Ipython notebook and also discuss the results in the writeup file.\n",
    "\n",
    "\n",
    ">**Note:** Code and Markdown cells can be executed using the **Shift + Enter** keyboard shortcut. In addition, Markdown cells can be edited by typically double-clicking the cell to enter edit mode."
   ]
  },
  {
   "cell_type": "markdown",
   "metadata": {},
   "source": [
    "---\n",
    "## Step 0: Load The Data"
   ]
  },
  {
   "cell_type": "code",
   "execution_count": 1,
   "metadata": {},
   "outputs": [],
   "source": [
    "# Load pickled data\n",
    "import pickle\n",
    "\n",
    "# TODO: Fill this in based on where you saved the training and testing data\n",
    "\n",
    "training_file = \"../data/train.p\"\n",
    "validation_file= \"../data/valid.p\"\n",
    "testing_file = \"../data/test.p\"\n",
    "\n",
    "with open(training_file, mode='rb') as f:\n",
    "    train = pickle.load(f)\n",
    "with open(validation_file, mode='rb') as f:\n",
    "    valid = pickle.load(f)\n",
    "with open(testing_file, mode='rb') as f:\n",
    "    test = pickle.load(f)\n",
    "    \n",
    "X_train, y_train = train['features'], train['labels']\n",
    "X_valid, y_valid = valid['features'], valid['labels']\n",
    "X_test, y_test = test['features'], test['labels']"
   ]
  },
  {
   "cell_type": "markdown",
   "metadata": {},
   "source": [
    "---\n",
    "\n",
    "## Step 1: Dataset Summary & Exploration\n",
    "\n",
    "The pickled data is a dictionary with 4 key/value pairs:\n",
    "\n",
    "- `'features'` is a 4D array containing raw pixel data of the traffic sign images, (num examples, width, height, channels).\n",
    "- `'labels'` is a 1D array containing the label/class id of the traffic sign. The file `signnames.csv` contains id -> name mappings for each id.\n",
    "- `'sizes'` is a list containing tuples, (width, height) representing the original width and height the image.\n",
    "- `'coords'` is a list containing tuples, (x1, y1, x2, y2) representing coordinates of a bounding box around the sign in the image. **THESE COORDINATES ASSUME THE ORIGINAL IMAGE. THE PICKLED DATA CONTAINS RESIZED VERSIONS (32 by 32) OF THESE IMAGES**\n",
    "\n",
    "Complete the basic data summary below. Use python, numpy and/or pandas methods to calculate the data summary rather than hard coding the results. For example, the [pandas shape method](http://pandas.pydata.org/pandas-docs/stable/generated/pandas.DataFrame.shape.html) might be useful for calculating some of the summary results. "
   ]
  },
  {
   "cell_type": "markdown",
   "metadata": {},
   "source": [
    "### Provide a Basic Summary of the Data Set Using Python, Numpy and/or Pandas"
   ]
  },
  {
   "cell_type": "code",
   "execution_count": 2,
   "metadata": {},
   "outputs": [
    {
     "name": "stdout",
     "output_type": "stream",
     "text": [
      "Number of training examples = 34799\n",
      "Number of testing examples = 12630\n",
      "Image data shape = (32, 32, 3)\n",
      "Number of classes = 43\n"
     ]
    }
   ],
   "source": [
    "### Replace each question mark with the appropriate value. \n",
    "### Use python, pandas or numpy methods rather than hard coding the results\n",
    "import numpy as np\n",
    "\n",
    "# TODO: Number of training examples\n",
    "n_train = y_train.shape[0]\n",
    "\n",
    "# TODO: Number of validation examples\n",
    "n_validation = y_valid.shape[0]\n",
    "\n",
    "# TODO: Number of testing examples.\n",
    "n_test = y_test.shape[0]\n",
    "\n",
    "# TODO: What's the shape of an traffic sign image?\n",
    "image_shape = X_train.shape[1:]\n",
    "\n",
    "# TODO: How many unique classes/labels there are in the dataset.\n",
    "n_classes = len(np.unique(y_train))\n",
    "\n",
    "print(\"Number of training examples =\", n_train)\n",
    "print(\"Number of testing examples =\", n_test)\n",
    "print(\"Image data shape =\", image_shape)\n",
    "print(\"Number of classes =\", n_classes)"
   ]
  },
  {
   "cell_type": "markdown",
   "metadata": {},
   "source": [
    "### Include an exploratory visualization of the dataset"
   ]
  },
  {
   "cell_type": "markdown",
   "metadata": {},
   "source": [
    "Visualize the German Traffic Signs Dataset using the pickled file(s). This is open ended, suggestions include: plotting traffic sign images, plotting the count of each sign, etc. \n",
    "\n",
    "The [Matplotlib](http://matplotlib.org/) [examples](http://matplotlib.org/examples/index.html) and [gallery](http://matplotlib.org/gallery.html) pages are a great resource for doing visualizations in Python.\n",
    "\n",
    "**NOTE:** It's recommended you start with something simple first. If you wish to do more, come back to it after you've completed the rest of the sections. It can be interesting to look at the distribution of classes in the training, validation and test set. Is the distribution the same? Are there more examples of some classes than others?"
   ]
  },
  {
   "cell_type": "code",
   "execution_count": 3,
   "metadata": {},
   "outputs": [
    {
     "data": {
      "image/png": "[encoded data removed]",
      "text/plain": [
       "<matplotlib.figure.Figure at 0x7ff368db0898>"
      ]
     },
     "metadata": {
      "needs_background": "light"
     },
     "output_type": "display_data"
    }
   ],
   "source": [
    "### Data exploration visualization code goes here.\n",
    "### Feel free to use as many code cells as needed.\n",
    "import matplotlib.pyplot as plt\n",
    "import pandas\n",
    "\n",
    "# Visualizations will be shown in the notebook.\n",
    "%matplotlib inline\n",
    "\n",
    "# shuffling data\n",
    "randomize = np.arange(len(y_train))\n",
    "np.random.shuffle(randomize)\n",
    "X_train_shuffled = X_train[randomize]\n",
    "y_train_shuffled = y_train[randomize]\n",
    "\n",
    "# readding labels\n",
    "labels = pandas.read_csv(\"signnames.csv\").values.tolist()\n",
    "dic_labels = { elem[0]: elem[1] for elem in labels}\n",
    "\n",
    "# plot 9 random images with their corresponding label\n",
    "fig = plt.gcf()\n",
    "fig.set_size_inches(16, 16)\n",
    "for nImage in range(9):\n",
    "    img = X_train_shuffled[nImage,:,:,:]\n",
    "\n",
    "    plt.subplot(3,3,nImage+1)\n",
    "    plt.imshow(img)\n",
    "    plt.title(dic_labels[y_train_shuffled[nImage]])"
   ]
  },
  {
   "cell_type": "code",
   "execution_count": 4,
   "metadata": {},
   "outputs": [
    {
     "name": "stderr",
     "output_type": "stream",
     "text": [
      "Using TensorFlow backend.\n"
     ]
    },
    {
     "data": {
      "image/png": "[encoded data removed]",
      "text/plain": [
       "<matplotlib.figure.Figure at 0x7ff326c4d6a0>"
      ]
     },
     "metadata": {
      "needs_background": "light"
     },
     "output_type": "display_data"
    }
   ],
   "source": [
    "# example of brighting image augmentation\n",
    "from numpy import expand_dims\n",
    "from keras.preprocessing.image import load_img\n",
    "from keras.preprocessing.image import img_to_array\n",
    "from keras.preprocessing.image import ImageDataGenerator\n",
    "from matplotlib import pyplot\n",
    "\n",
    "imgs = X_train_shuffled[0:2,:,:,:]\n",
    "datagen = ImageDataGenerator()\n",
    "# prepare iterator\n",
    "it = datagen.flow(imgs, batch_size=1)\n",
    "# generate samples and plot\n",
    "for i in range(2):\n",
    "    # define subplot\n",
    "    pyplot.subplot(330 + 1 + i)\n",
    "    # generate batch of images\n",
    "    batch = it.next()\n",
    "    # convert to unsigned integers for viewing\n",
    "    image = batch[0].astype('uint8')\n",
    "    # plot raw pixel data\n",
    "    pyplot.imshow(image)\n",
    "# show the figure\n",
    "pyplot.show()"
   ]
  },
  {
   "cell_type": "code",
   "execution_count": 5,
   "metadata": {},
   "outputs": [
    {
     "data": {
      "text/plain": [
       "(32, 32, 3)"
      ]
     },
     "execution_count": 5,
     "metadata": {},
     "output_type": "execute_result"
    }
   ],
   "source": [
    "X_train[0,:,:,:].shape"
   ]
  },
  {
   "cell_type": "code",
   "execution_count": 6,
   "metadata": {},
   "outputs": [
    {
     "data": {
      "text/plain": [
       "255"
      ]
     },
     "execution_count": 6,
     "metadata": {},
     "output_type": "execute_result"
    }
   ],
   "source": [
    "np.max(np.abs(image - X_train_shuffled[0,:,:,:]))"
   ]
  },
  {
   "cell_type": "code",
   "execution_count": 7,
   "metadata": {},
   "outputs": [
    {
     "data": {
      "text/plain": [
       "<matplotlib.image.AxesImage at 0x7ff2dd5ba7f0>"
      ]
     },
     "execution_count": 7,
     "metadata": {},
     "output_type": "execute_result"
    },
    {
     "data": {
      "image/png": "[encoded data removed]",
      "text/plain": [
       "<matplotlib.figure.Figure at 0x7ff2dd637ef0>"
      ]
     },
     "metadata": {
      "needs_background": "light"
     },
     "output_type": "display_data"
    }
   ],
   "source": [
    "pyplot.imshow(image)"
   ]
  },
  {
   "cell_type": "code",
   "execution_count": 8,
   "metadata": {},
   "outputs": [
    {
     "data": {
      "text/plain": [
       "<matplotlib.image.AxesImage at 0x7ff2dd51a908>"
      ]
     },
     "execution_count": 8,
     "metadata": {},
     "output_type": "execute_result"
    },
    {
     "data": {
      "image/png": "[encoded data removed]",
      "text/plain": [
       "<matplotlib.figure.Figure at 0x7ff2dd5a4160>"
      ]
     },
     "metadata": {
      "needs_background": "light"
     },
     "output_type": "display_data"
    }
   ],
   "source": [
    "pyplot.imshow(X_train_shuffled[1,:,:,:])"
   ]
  },
  {
   "cell_type": "markdown",
   "metadata": {},
   "source": [
    "----\n",
    "\n",
    "## Step 2: Design and Test a Model Architecture\n",
    "\n",
    "Design and implement a deep learning model that learns to recognize traffic signs. Train and test your model on the [German Traffic Sign Dataset](http://benchmark.ini.rub.de/?section=gtsrb&subsection=dataset).\n",
    "\n",
    "The LeNet-5 implementation shown in the [classroom](https://classroom.udacity.com/nanodegrees/nd013/parts/fbf77062-5703-404e-b60c-95b78b2f3f9e/modules/6df7ae49-c61c-4bb2-a23e-6527e69209ec/lessons/601ae704-1035-4287-8b11-e2c2716217ad/concepts/d4aca031-508f-4e0b-b493-e7b706120f81) at the end of the CNN lesson is a solid starting point. You'll have to change the number of classes and possibly the preprocessing, but aside from that it's plug and play! \n",
    "\n",
    "With the LeNet-5 solution from the lecture, you should expect a validation set accuracy of about 0.89. To meet specifications, the validation set accuracy will need to be at least 0.93. It is possible to get an even higher accuracy, but 0.93 is the minimum for a successful project submission. \n",
    "\n",
    "There are various aspects to consider when thinking about this problem:\n",
    "\n",
    "- Neural network architecture (is the network over or underfitting?)\n",
    "- Play around preprocessing techniques (normalization, rgb to grayscale, etc)\n",
    "- Number of examples per label (some have more than others).\n",
    "- Generate fake data.\n",
    "\n",
    "Here is an example of a [published baseline model on this problem](http://yann.lecun.com/exdb/publis/pdf/sermanet-ijcnn-11.pdf). It's not required to be familiar with the approach used in the paper but, it's good practice to try to read papers like these."
   ]
  },
  {
   "cell_type": "markdown",
   "metadata": {},
   "source": [
    "### Pre-process the Data Set (normalization, grayscale, etc.)"
   ]
  },
  {
   "cell_type": "markdown",
   "metadata": {},
   "source": [
    "Minimally, the image data should be normalized so that the data has mean zero and equal variance. For image data, `(pixel - 128)/ 128` is a quick way to approximately normalize the data and can be used in this project. \n",
    "\n",
    "Other pre-processing steps are optional. You can try different techniques to see if it improves performance. \n",
    "\n",
    "Use the code cell (or multiple code cells, if necessary) to implement the first step of your project."
   ]
  },
  {
   "cell_type": "code",
   "execution_count": 9,
   "metadata": {},
   "outputs": [],
   "source": [
    "### Preprocess the data here. It is required to normalize the data. Other preprocessing steps could include \n",
    "### converting to grayscale, etc.\n",
    "### Feel free to use as many code cells as needed.\n",
    "import cv2\n",
    "from keras.preprocessing.image import ImageDataGenerator\n",
    "\n",
    "def extendTrainData(X, y_train, min_label_elements=500):\n",
    "    # increse samples of undersample elements\n",
    "    values, index, counts = np.unique(\n",
    "        y_train, return_index=True, return_counts=True)\n",
    "    datagen = ImageDataGenerator(zoom_range=[.9, 1])\n",
    "    n_generated_images = np.sum(counts[counts < min_label_elements])\n",
    "    X_extra = np.zeros((n_generated_images, 32, 32, 3), dtype='uint8')\n",
    "    y_train_extra = np.zeros((n_generated_images), dtype='uint8')\n",
    "    counter = 0\n",
    "\n",
    "    for i in range(len(values)):\n",
    "        if counts[i] < min_label_elements:\n",
    "            images = X[(y_train == values[i])]\n",
    "            n_to_generate = min_label_elements - counts[i]\n",
    "\n",
    "            it = datagen.flow(images, batch_size=1)\n",
    "            for j in range(len(images)):\n",
    "                batch = it.next()\n",
    "                X_extra[counter: counter +\n",
    "                        len(batch), :, :, :] = batch.astype('uint8')\n",
    "                y_train_extra[counter: counter + len(batch)] = values[i]\n",
    "                counter = counter + len(batch)\n",
    "\n",
    "    # suffle extra elemnts\n",
    "    randomize = np.arange(len(y_train_extra))\n",
    "    np.random.shuffle(randomize)\n",
    "    y_train_extra = y_train_extra[randomize]\n",
    "    X_extra = X_extra[randomize]\n",
    "\n",
    "    # concatenate extra elemnts\n",
    "    X = np.concatenate((X, X_extra))\n",
    "    y_train = np.concatenate((y_train, y_train_extra))\n",
    "\n",
    "    return X, y_train\n",
    "\n",
    "def preprocessData(X):\n",
    "    # create gray scale layer\n",
    "    gray_scale =  np.sum(X, 3) / 3\n",
    "    X = np.concatenate((X, np.expand_dims(gray_scale, 3)), axis=3)\n",
    "    X = (X - 128) / 128\n",
    "    return X\n",
    "\n",
    "# process data\n",
    "X_train_extended, y_train_extended = extendTrainData(X_train, y_train)\n",
    "X_train_processed = preprocessData(X_train_extended)\n",
    "X_valid_processed = preprocessData(X_valid)\n",
    "X_test_processed = preprocessData(X_test)"
   ]
  },
  {
   "cell_type": "markdown",
   "metadata": {},
   "source": [
    "### Model Architecture"
   ]
  },
  {
   "cell_type": "code",
   "execution_count": 10,
   "metadata": {},
   "outputs": [],
   "source": [
    "### Define your architecture here.\n",
    "### Feel free to use as many code cells as needed.\n",
    "\n",
    "from tensorflow.contrib.layers import flatten\n",
    "\n",
    "def LeNet(x, n_classes):    \n",
    "    # Arguments used for tf.truncated_normal, randomly defines variables for the weights and biases for each layer\n",
    "    mu = 0\n",
    "    sigma = 0.3\n",
    "    \n",
    "    # TODO: Layer 1: Convolutional. Input = 32x32x1. Output = 28x28x6.\n",
    "    sq = 5\n",
    "    n_filter = 32\n",
    "    c1_w = tf.Variable(tf.truncated_normal([sq,sq,4,n_filter], mean = mu, stddev = 0.1))\n",
    "    c1_b = tf.Variable(tf.zeros(n_filter))\n",
    "    c1_x = tf.nn.conv2d(x, c1_w, strides=[1, 1, 1, 1], padding='VALID') + c1_b \n",
    "    print(\"c1_x.shape=\", c1_x.shape)\n",
    "    \n",
    "    # TODO: Activation.\n",
    "    c1_res_x = tf.nn.softmax(c1_x)\n",
    "\n",
    "    # TODO: Pooling. Input = 28x28x6. Output = 14x14x6.\n",
    "    ksize = [1, 2, 2, 1]\n",
    "    strides = [1, 2, 2, 1]\n",
    "    padding = 'VALID'\n",
    "    pool1_x =  tf.nn.max_pool(c1_res_x, ksize, strides, padding)\n",
    "    print(\"pool1_x.shape=\", pool1_x.shape)\n",
    "\n",
    "    # TODO: Layer 2: Convolutional. Output = 10x10x16.\n",
    "    sq = 5\n",
    "    n_dimention = 32\n",
    "    n_filter = 64\n",
    "    c2_w = tf.Variable(tf.truncated_normal([sq,sq,n_dimention,n_filter], mean = mu, stddev = 0.1))\n",
    "    c2_b = tf.Variable(tf.zeros(n_filter))\n",
    "    c2_x = tf.nn.conv2d(pool1_x, c2_w, strides=[1, 1, 1, 1], padding='VALID') + c2_b \n",
    "    print(\"c2_x.shape=\", c2_x.shape)\n",
    "    \n",
    "    # TODO: Activation.\n",
    "    c2_res_x = tf.nn.softmax(c2_x)\n",
    "\n",
    "    # TODO: Pooling. Input = 10x10x16. Output = 5x5x16.\n",
    "    ksize = [1, 2, 2, 1]\n",
    "    strides = [1, 2, 2, 1]\n",
    "    padding = 'VALID'\n",
    "    pool2_x =  tf.nn.max_pool(c2_res_x, ksize, strides, padding)\n",
    "    print(\"pool2_x.shape=\", pool2_x.shape)\n",
    "\n",
    "    # TODO: Flatten. Input = 5x5x16. Output = 400.\n",
    "    flat_x = flatten(pool2_x)\n",
    "    print(\"flat_x.shape=\", flat_x.shape)\n",
    "    \n",
    "    # TODO: Layer 3: Fully Connected. Input = 400. Output = 120.\n",
    "    features_count = 1600\n",
    "    labels_count = 400\n",
    "    flat_w1 = tf.Variable(tf.random_normal([features_count, labels_count]))\n",
    "    flat_b1 = tf.Variable(tf.zeros([labels_count])) \n",
    "    f1_x = tf.matmul(flat_x, flat_w1) + flat_b1\n",
    "    print(\"f1_x.shape=\", f1_x.shape)\n",
    "    \n",
    "    # TODO: Activation.\n",
    "    f1_res_x = tf.nn.softmax(f1_x)\n",
    "\n",
    "    # TODO: Layer 4: Fully Connected. Input = 120. Output = 84.\n",
    "    features_count = 400\n",
    "    labels_count = 200\n",
    "    flat_w2 = tf.Variable(tf.random_normal([features_count, labels_count]))\n",
    "    flat_b2 = tf.Variable(tf.zeros([labels_count])) \n",
    "    f2_x = tf.matmul(f1_res_x, flat_w2) + flat_b2\n",
    "    print(\"f2_x.shape=\", f2_x.shape)\n",
    "    \n",
    "    # TODO: Activation.\n",
    "    f2_res_x = tf.nn.softmax(f2_x)\n",
    "\n",
    "    # TODO: Layer 5: Fully Connected. Input = 84. Output = 10.\n",
    "    features_count = 200\n",
    "    labels_count = n_classes\n",
    "    log_w = tf.Variable(tf.random_normal([features_count, labels_count]))\n",
    "    log_b = tf.Variable(tf.zeros([labels_count])) \n",
    "    logits = tf.matmul(f2_res_x, log_w) + log_b\n",
    "    print(\"logits.shape=\", logits.shape)\n",
    "    \n",
    "    return logits"
   ]
  },
  {
   "cell_type": "markdown",
   "metadata": {},
   "source": [
    "### Train, Validate and Test the Model"
   ]
  },
  {
   "cell_type": "markdown",
   "metadata": {},
   "source": [
    "A validation set can be used to assess how well the model is performing. A low accuracy on the training and validation\n",
    "sets imply underfitting. A high accuracy on the training set but low accuracy on the validation set implies overfitting."
   ]
  },
  {
   "cell_type": "code",
   "execution_count": 11,
   "metadata": {},
   "outputs": [
    {
     "name": "stdout",
     "output_type": "stream",
     "text": [
      "c1_x.shape= (?, 28, 28, 32)\n",
      "pool1_x.shape= (?, 14, 14, 32)\n",
      "c2_x.shape= (?, 10, 10, 64)\n",
      "pool2_x.shape= (?, 5, 5, 64)\n",
      "flat_x.shape= (?, 1600)\n",
      "f1_x.shape= (?, 400)\n",
      "f2_x.shape= (?, 200)\n",
      "logits.shape= (?, 43)\n"
     ]
    }
   ],
   "source": [
    "# Training Pipeline\n",
    "import tensorflow as tf\n",
    "\n",
    "EPOCHS = 100\n",
    "BATCH_SIZE = 128\n",
    "\n",
    "x = tf.placeholder(tf.float32, (None, 32, 32, 4))\n",
    "y = tf.placeholder(tf.int32, (None))\n",
    "one_hot_y = tf.one_hot(y, n_classes)\n",
    "\n",
    "rate = 0.003\n",
    "\n",
    "logits = LeNet(x, n_classes)\n",
    "cross_entropy = tf.nn.softmax_cross_entropy_with_logits(labels=one_hot_y, logits=logits)\n",
    "loss_operation = tf.reduce_mean(cross_entropy)\n",
    "optimizer = tf.train.AdamOptimizer(learning_rate = rate)\n",
    "training_operation = optimizer.minimize(loss_operation)"
   ]
  },
  {
   "cell_type": "code",
   "execution_count": 12,
   "metadata": {},
   "outputs": [],
   "source": [
    "# Model Evaluation\n",
    "correct_prediction = tf.equal(tf.argmax(logits, 1), tf.argmax(one_hot_y, 1))\n",
    "accuracy_operation = tf.reduce_mean(tf.cast(correct_prediction, tf.float32))\n",
    "saver = tf.train.Saver()\n",
    "\n",
    "def evaluate(X_data, y_data):\n",
    "    num_examples = len(X_data)\n",
    "    total_accuracy = 0\n",
    "    sess = tf.get_default_session()\n",
    "    for offset in range(0, num_examples, BATCH_SIZE):\n",
    "        batch_x, batch_y = X_data[offset:offset+BATCH_SIZE], y_data[offset:offset+BATCH_SIZE]\n",
    "        accuracy = sess.run(accuracy_operation, feed_dict={x: batch_x, y: batch_y})\n",
    "        total_accuracy += (accuracy * len(batch_x))\n",
    "    return total_accuracy / num_examples"
   ]
  },
  {
   "cell_type": "code",
   "execution_count": 13,
   "metadata": {},
   "outputs": [
    {
     "name": "stdout",
     "output_type": "stream",
     "text": [
      "Training...\n",
      "\n",
      "EPOCH 1 ...\n",
      "Validation Accuracy = 0.219\n",
      "\n",
      "EPOCH 2 ...\n",
      "Validation Accuracy = 0.224\n",
      "\n",
      "EPOCH 3 ...\n",
      "Validation Accuracy = 0.221\n",
      "\n",
      "EPOCH 4 ...\n",
      "Validation Accuracy = 0.220\n",
      "\n",
      "EPOCH 5 ...\n",
      "Validation Accuracy = 0.233\n",
      "\n",
      "EPOCH 6 ...\n",
      "Validation Accuracy = 0.248\n",
      "\n",
      "EPOCH 7 ...\n",
      "Validation Accuracy = 0.306\n",
      "\n",
      "EPOCH 8 ...\n",
      "Validation Accuracy = 0.304\n",
      "\n",
      "EPOCH 9 ...\n",
      "Validation Accuracy = 0.335\n",
      "\n",
      "EPOCH 10 ...\n",
      "Validation Accuracy = 0.333\n",
      "\n",
      "EPOCH 11 ...\n",
      "Validation Accuracy = 0.334\n",
      "\n",
      "EPOCH 12 ...\n",
      "Validation Accuracy = 0.337\n",
      "\n",
      "EPOCH 13 ...\n",
      "Validation Accuracy = 0.348\n",
      "\n",
      "EPOCH 14 ...\n",
      "Validation Accuracy = 0.377\n",
      "\n",
      "EPOCH 15 ...\n",
      "Validation Accuracy = 0.382\n",
      "\n",
      "EPOCH 16 ...\n",
      "Validation Accuracy = 0.399\n",
      "\n",
      "EPOCH 17 ...\n",
      "Validation Accuracy = 0.414\n",
      "\n",
      "EPOCH 18 ...\n",
      "Validation Accuracy = 0.438\n",
      "\n",
      "EPOCH 19 ...\n",
      "Validation Accuracy = 0.439\n",
      "\n",
      "EPOCH 20 ...\n",
      "Validation Accuracy = 0.448\n",
      "\n",
      "EPOCH 21 ...\n",
      "Validation Accuracy = 0.440\n",
      "\n",
      "EPOCH 22 ...\n",
      "Validation Accuracy = 0.451\n",
      "\n",
      "EPOCH 23 ...\n",
      "Validation Accuracy = 0.461\n",
      "\n",
      "EPOCH 24 ...\n",
      "Validation Accuracy = 0.467\n",
      "\n",
      "EPOCH 25 ...\n",
      "Validation Accuracy = 0.462\n",
      "\n",
      "EPOCH 26 ...\n",
      "Validation Accuracy = 0.485\n",
      "\n",
      "EPOCH 27 ...\n",
      "Validation Accuracy = 0.489\n",
      "\n",
      "EPOCH 28 ...\n",
      "Validation Accuracy = 0.492\n",
      "\n",
      "EPOCH 29 ...\n",
      "Validation Accuracy = 0.494\n",
      "\n",
      "EPOCH 30 ...\n",
      "Validation Accuracy = 0.518\n",
      "\n",
      "EPOCH 31 ...\n",
      "Validation Accuracy = 0.520\n",
      "\n",
      "EPOCH 32 ...\n",
      "Validation Accuracy = 0.537\n",
      "\n",
      "EPOCH 33 ...\n",
      "Validation Accuracy = 0.549\n",
      "\n",
      "EPOCH 34 ...\n",
      "Validation Accuracy = 0.555\n",
      "\n",
      "EPOCH 35 ...\n",
      "Validation Accuracy = 0.553\n",
      "\n",
      "EPOCH 36 ...\n",
      "Validation Accuracy = 0.582\n",
      "\n",
      "EPOCH 37 ...\n",
      "Validation Accuracy = 0.601\n",
      "\n",
      "EPOCH 38 ...\n",
      "Validation Accuracy = 0.626\n",
      "\n",
      "EPOCH 39 ...\n",
      "Validation Accuracy = 0.641\n",
      "\n",
      "EPOCH 40 ...\n",
      "Validation Accuracy = 0.654\n",
      "\n",
      "EPOCH 41 ...\n",
      "Validation Accuracy = 0.666\n",
      "\n",
      "EPOCH 42 ...\n",
      "Validation Accuracy = 0.675\n",
      "\n",
      "EPOCH 43 ...\n",
      "Validation Accuracy = 0.690\n",
      "\n",
      "EPOCH 44 ...\n",
      "Validation Accuracy = 0.707\n",
      "\n",
      "EPOCH 45 ...\n",
      "Validation Accuracy = 0.735\n",
      "\n",
      "EPOCH 46 ...\n",
      "Validation Accuracy = 0.766\n",
      "\n",
      "EPOCH 47 ...\n",
      "Validation Accuracy = 0.756\n",
      "\n",
      "EPOCH 48 ...\n",
      "Validation Accuracy = 0.789\n",
      "\n",
      "EPOCH 49 ...\n",
      "Validation Accuracy = 0.813\n",
      "\n",
      "EPOCH 50 ...\n",
      "Validation Accuracy = 0.857\n",
      "\n",
      "EPOCH 51 ...\n",
      "Validation Accuracy = 0.899\n",
      "\n",
      "EPOCH 52 ...\n",
      "Validation Accuracy = 0.902\n",
      "\n",
      "EPOCH 53 ...\n",
      "Validation Accuracy = 0.905\n",
      "\n",
      "EPOCH 54 ...\n",
      "Validation Accuracy = 0.906\n",
      "\n",
      "EPOCH 55 ...\n",
      "Validation Accuracy = 0.910\n",
      "\n",
      "EPOCH 56 ...\n",
      "Validation Accuracy = 0.909\n",
      "\n",
      "EPOCH 57 ...\n",
      "Validation Accuracy = 0.915\n",
      "\n",
      "EPOCH 58 ...\n",
      "Validation Accuracy = 0.901\n",
      "\n",
      "EPOCH 59 ...\n",
      "Validation Accuracy = 0.915\n",
      "\n",
      "EPOCH 60 ...\n",
      "Validation Accuracy = 0.917\n",
      "\n",
      "EPOCH 61 ...\n",
      "Validation Accuracy = 0.889\n",
      "\n",
      "EPOCH 62 ...\n",
      "Validation Accuracy = 0.910\n",
      "\n",
      "EPOCH 63 ...\n",
      "Validation Accuracy = 0.917\n",
      "\n",
      "EPOCH 64 ...\n",
      "Validation Accuracy = 0.926\n",
      "\n",
      "EPOCH 65 ...\n",
      "Validation Accuracy = 0.922\n",
      "\n",
      "EPOCH 66 ...\n",
      "Validation Accuracy = 0.920\n",
      "\n",
      "EPOCH 67 ...\n",
      "Validation Accuracy = 0.914\n",
      "\n",
      "EPOCH 68 ...\n",
      "Validation Accuracy = 0.929\n",
      "\n",
      "EPOCH 69 ...\n",
      "Validation Accuracy = 0.917\n",
      "\n",
      "EPOCH 70 ...\n",
      "Validation Accuracy = 0.926\n",
      "\n",
      "EPOCH 71 ...\n",
      "Validation Accuracy = 0.899\n",
      "\n",
      "EPOCH 72 ...\n",
      "Validation Accuracy = 0.925\n",
      "\n",
      "EPOCH 73 ...\n",
      "Validation Accuracy = 0.923\n",
      "\n",
      "EPOCH 74 ...\n",
      "Validation Accuracy = 0.927\n",
      "\n",
      "EPOCH 75 ...\n",
      "Validation Accuracy = 0.909\n",
      "\n",
      "EPOCH 76 ...\n",
      "Validation Accuracy = 0.930\n",
      "\n",
      "EPOCH 77 ...\n",
      "Validation Accuracy = 0.908\n",
      "\n",
      "EPOCH 78 ...\n",
      "Validation Accuracy = 0.934\n",
      "\n",
      "EPOCH 79 ...\n",
      "Validation Accuracy = 0.933\n",
      "\n",
      "EPOCH 80 ...\n",
      "Validation Accuracy = 0.939\n",
      "\n",
      "EPOCH 81 ...\n",
      "Validation Accuracy = 0.930\n",
      "\n",
      "EPOCH 82 ...\n",
      "Validation Accuracy = 0.919\n",
      "\n",
      "EPOCH 83 ...\n",
      "Validation Accuracy = 0.912\n",
      "\n",
      "EPOCH 84 ...\n",
      "Validation Accuracy = 0.926\n",
      "\n",
      "EPOCH 85 ...\n",
      "Validation Accuracy = 0.920\n",
      "\n",
      "EPOCH 86 ...\n",
      "Validation Accuracy = 0.938\n",
      "\n",
      "EPOCH 87 ...\n",
      "Validation Accuracy = 0.930\n",
      "\n",
      "EPOCH 88 ...\n",
      "Validation Accuracy = 0.942\n",
      "\n",
      "EPOCH 89 ...\n",
      "Validation Accuracy = 0.942\n",
      "\n",
      "EPOCH 90 ...\n",
      "Validation Accuracy = 0.932\n",
      "\n",
      "EPOCH 91 ...\n",
      "Validation Accuracy = 0.943\n",
      "\n",
      "EPOCH 92 ...\n",
      "Validation Accuracy = 0.942\n",
      "\n",
      "EPOCH 93 ...\n",
      "Validation Accuracy = 0.943\n",
      "\n",
      "EPOCH 94 ...\n",
      "Validation Accuracy = 0.949\n",
      "\n",
      "EPOCH 95 ...\n",
      "Validation Accuracy = 0.942\n",
      "\n",
      "EPOCH 96 ...\n",
      "Validation Accuracy = 0.945\n",
      "\n",
      "EPOCH 97 ...\n",
      "Validation Accuracy = 0.933\n",
      "\n",
      "EPOCH 98 ...\n",
      "Validation Accuracy = 0.952\n",
      "\n",
      "EPOCH 99 ...\n",
      "Validation Accuracy = 0.944\n",
      "\n",
      "EPOCH 100 ...\n",
      "Validation Accuracy = 0.949\n",
      "\n",
      "Model saved\n"
     ]
    }
   ],
   "source": [
    "# Model training\n",
    "from sklearn.utils import shuffle\n",
    "\n",
    "with tf.Session() as sess:\n",
    "    sess.run(tf.global_variables_initializer())\n",
    "#     saver.restore(sess, tf.train.latest_checkpoint('.'))\n",
    "    num_examples = len(X_train_processed)\n",
    "    \n",
    "    print(\"Training...\")\n",
    "    print()\n",
    "    for i in range(EPOCHS):\n",
    "        X_train_processed, y_train_extended = shuffle(X_train_processed, y_train_extended)\n",
    "        for offset in range(0, num_examples, BATCH_SIZE):\n",
    "            end = offset + BATCH_SIZE\n",
    "            batch_x, batch_y = X_train_processed[offset:end], y_train_extended[offset:end]\n",
    "            sess.run(training_operation, feed_dict={x: batch_x, y: batch_y})\n",
    "            \n",
    "        validation_accuracy = evaluate(X_valid_processed, y_valid)\n",
    "        print(\"EPOCH {} ...\".format(i+1))\n",
    "        print(\"Validation Accuracy = {:.3f}\".format(validation_accuracy))\n",
    "        print()\n",
    "        \n",
    "    saver.save(sess, './lenet')\n",
    "    print(\"Model saved\")"
   ]
  },
  {
   "cell_type": "code",
   "execution_count": 23,
   "metadata": {},
   "outputs": [
    {
     "name": "stdout",
     "output_type": "stream",
     "text": [
      "INFO:tensorflow:Restoring parameters from ./lenet\n",
      "Training...\n",
      "\n",
      "EPOCH 1 ...\n",
      "Validation Accuracy = 0.949\n",
      "\n",
      "EPOCH 2 ...\n",
      "Validation Accuracy = 0.958\n",
      "\n",
      "EPOCH 3 ...\n",
      "Validation Accuracy = 0.958\n",
      "\n",
      "EPOCH 4 ...\n",
      "Validation Accuracy = 0.960\n",
      "\n",
      "EPOCH 5 ...\n",
      "Validation Accuracy = 0.960\n",
      "\n",
      "EPOCH 6 ...\n",
      "Validation Accuracy = 0.961\n",
      "\n",
      "EPOCH 7 ...\n",
      "Validation Accuracy = 0.959\n",
      "\n",
      "EPOCH 8 ...\n",
      "Validation Accuracy = 0.958\n",
      "\n",
      "EPOCH 9 ...\n",
      "Validation Accuracy = 0.958\n",
      "\n",
      "EPOCH 10 ...\n",
      "Validation Accuracy = 0.949\n",
      "\n",
      "Model saved\n"
     ]
    }
   ],
   "source": [
    "EPOCHS = 10\n",
    "\n",
    "with tf.Session() as sess:\n",
    "    saver.restore(sess, tf.train.latest_checkpoint('.'))\n",
    "    num_examples = len(X_train_processed)\n",
    "    \n",
    "    print(\"Training...\")\n",
    "    print()\n",
    "    for i in range(EPOCHS):\n",
    "        X_train_processed, y_train_extended = shuffle(X_train_processed, y_train_extended)\n",
    "        for offset in range(0, num_examples, BATCH_SIZE):\n",
    "            end = offset + BATCH_SIZE\n",
    "            batch_x, batch_y = X_train_processed[offset:end], y_train_extended[offset:end]\n",
    "            sess.run(training_operation, feed_dict={x: batch_x, y: batch_y})\n",
    "            \n",
    "        validation_accuracy = evaluate(X_valid_processed, y_valid)\n",
    "        print(\"EPOCH {} ...\".format(i+1))\n",
    "        print(\"Validation Accuracy = {:.3f}\".format(validation_accuracy))\n",
    "        print()\n",
    "        \n",
    "    saver.save(sess, './lenet')\n",
    "    print(\"Model saved\")"
   ]
  },
  {
   "cell_type": "code",
   "execution_count": 24,
   "metadata": {},
   "outputs": [
    {
     "name": "stdout",
     "output_type": "stream",
     "text": [
      "INFO:tensorflow:Restoring parameters from ./lenet\n",
      "Test Accuracy = 0.932\n"
     ]
    }
   ],
   "source": [
    "# Model testing\n",
    "with tf.Session() as sess:\n",
    "    saver.restore(sess, tf.train.latest_checkpoint('.'))\n",
    "\n",
    "    test_accuracy = evaluate(X_test_processed, y_test)\n",
    "    print(\"Test Accuracy = {:.3f}\".format(test_accuracy))"
   ]
  },
  {
   "cell_type": "markdown",
   "metadata": {},
   "source": [
    "---\n",
    "\n",
    "## Step 3: Test a Model on New Images\n",
    "\n",
    "To give yourself more insight into how your model is working, download at least five pictures of German traffic signs from the web and use your model to predict the traffic sign type.\n",
    "\n",
    "You may find `signnames.csv` useful as it contains mappings from the class id (integer) to the actual sign name."
   ]
  },
  {
   "cell_type": "markdown",
   "metadata": {},
   "source": [
    "### Load and Output the Images"
   ]
  },
  {
   "cell_type": "code",
   "execution_count": 15,
   "metadata": {},
   "outputs": [],
   "source": [
    "### Load the images and plot them here.\n",
    "### Feel free to use as many code cells as needed."
   ]
  },
  {
   "cell_type": "markdown",
   "metadata": {},
   "source": [
    "### Predict the Sign Type for Each Image"
   ]
  },
  {
   "cell_type": "code",
   "execution_count": 16,
   "metadata": {},
   "outputs": [],
   "source": [
    "### Run the predictions here and use the model to output the prediction for each image.\n",
    "### Make sure to pre-process the images with the same pre-processing pipeline used earlier.\n",
    "### Feel free to use as many code cells as needed."
   ]
  },
  {
   "cell_type": "markdown",
   "metadata": {},
   "source": [
    "### Analyze Performance"
   ]
  },
  {
   "cell_type": "code",
   "execution_count": 17,
   "metadata": {},
   "outputs": [],
   "source": [
    "### Calculate the accuracy for these 5 new images. \n",
    "### For example, if the model predicted 1 out of 5 signs correctly, it's 20% accurate on these new images."
   ]
  },
  {
   "cell_type": "markdown",
   "metadata": {},
   "source": [
    "### Output Top 5 Softmax Probabilities For Each Image Found on the Web"
   ]
  },
  {
   "cell_type": "markdown",
   "metadata": {},
   "source": [
    "For each of the new images, print out the model's softmax probabilities to show the **certainty** of the model's predictions (limit the output to the top 5 probabilities for each image). [`tf.nn.top_k`](https://www.tensorflow.org/versions/r0.12/api_docs/python/nn.html#top_k) could prove helpful here. \n",
    "\n",
    "The example below demonstrates how tf.nn.top_k can be used to find the top k predictions for each image.\n",
    "\n",
    "`tf.nn.top_k` will return the values and indices (class ids) of the top k predictions. So if k=3, for each sign, it'll return the 3 largest probabilities (out of a possible 43) and the correspoding class ids.\n",
    "\n",
    "Take this numpy array as an example. The values in the array represent predictions. The array contains softmax probabilities for five candidate images with six possible classes. `tf.nn.top_k` is used to choose the three classes with the highest probability:\n",
    "\n",
    "```\n",
    "# (5, 6) array\n",
    "a = np.array([[ 0.24879643,  0.07032244,  0.12641572,  0.34763842,  0.07893497,\n",
    "         0.12789202],\n",
    "       [ 0.28086119,  0.27569815,  0.08594638,  0.0178669 ,  0.18063401,\n",
    "         0.15899337],\n",
    "       [ 0.26076848,  0.23664738,  0.08020603,  0.07001922,  0.1134371 ,\n",
    "         0.23892179],\n",
    "       [ 0.11943333,  0.29198961,  0.02605103,  0.26234032,  0.1351348 ,\n",
    "         0.16505091],\n",
    "       [ 0.09561176,  0.34396535,  0.0643941 ,  0.16240774,  0.24206137,\n",
    "         0.09155967]])\n",
    "```\n",
    "\n",
    "Running it through `sess.run(tf.nn.top_k(tf.constant(a), k=3))` produces:\n",
    "\n",
    "```\n",
    "TopKV2(values=array([[ 0.34763842,  0.24879643,  0.12789202],\n",
    "       [ 0.28086119,  0.27569815,  0.18063401],\n",
    "       [ 0.26076848,  0.23892179,  0.23664738],\n",
    "       [ 0.29198961,  0.26234032,  0.16505091],\n",
    "       [ 0.34396535,  0.24206137,  0.16240774]]), indices=array([[3, 0, 5],\n",
    "       [0, 1, 4],\n",
    "       [0, 5, 1],\n",
    "       [1, 3, 5],\n",
    "       [1, 4, 3]], dtype=int32))\n",
    "```\n",
    "\n",
    "Looking just at the first row we get `[ 0.34763842,  0.24879643,  0.12789202]`, you can confirm these are the 3 largest probabilities in `a`. You'll also notice `[3, 0, 5]` are the corresponding indices."
   ]
  },
  {
   "cell_type": "code",
   "execution_count": 18,
   "metadata": {},
   "outputs": [],
   "source": [
    "### Print out the top five softmax probabilities for the predictions on the German traffic sign images found on the web. \n",
    "### Feel free to use as many code cells as needed."
   ]
  },
  {
   "cell_type": "markdown",
   "metadata": {},
   "source": [
    "### Project Writeup\n",
    "\n",
    "Once you have completed the code implementation, document your results in a project writeup using this [template](https://github.com/udacity/CarND-Traffic-Sign-Classifier-Project/blob/master/writeup_template.md) as a guide. The writeup can be in a markdown or pdf file. "
   ]
  },
  {
   "cell_type": "markdown",
   "metadata": {},
   "source": [
    "> **Note**: Once you have completed all of the code implementations and successfully answered each question above, you may finalize your work by exporting the iPython Notebook as an HTML document. You can do this by using the menu above and navigating to  \\n\",\n",
    "    \"**File -> Download as -> HTML (.html)**. Include the finished document along with this notebook as your submission."
   ]
  },
  {
   "cell_type": "markdown",
   "metadata": {},
   "source": [
    "---\n",
    "\n",
    "## Step 4 (Optional): Visualize the Neural Network's State with Test Images\n",
    "\n",
    " This Section is not required to complete but acts as an additional excersise for understaning the output of a neural network's weights. While neural networks can be a great learning device they are often referred to as a black box. We can understand what the weights of a neural network look like better by plotting their feature maps. After successfully training your neural network you can see what it's feature maps look like by plotting the output of the network's weight layers in response to a test stimuli image. From these plotted feature maps, it's possible to see what characteristics of an image the network finds interesting. For a sign, maybe the inner network feature maps react with high activation to the sign's boundary outline or to the contrast in the sign's painted symbol.\n",
    "\n",
    " Provided for you below is the function code that allows you to get the visualization output of any tensorflow weight layer you want. The inputs to the function should be a stimuli image, one used during training or a new one you provided, and then the tensorflow variable name that represents the layer's state during the training process, for instance if you wanted to see what the [LeNet lab's](https://classroom.udacity.com/nanodegrees/nd013/parts/fbf77062-5703-404e-b60c-95b78b2f3f9e/modules/6df7ae49-c61c-4bb2-a23e-6527e69209ec/lessons/601ae704-1035-4287-8b11-e2c2716217ad/concepts/d4aca031-508f-4e0b-b493-e7b706120f81) feature maps looked like for it's second convolutional layer you could enter conv2 as the tf_activation variable.\n",
    "\n",
    "For an example of what feature map outputs look like, check out NVIDIA's results in their paper [End-to-End Deep Learning for Self-Driving Cars](https://devblogs.nvidia.com/parallelforall/deep-learning-self-driving-cars/) in the section Visualization of internal CNN State. NVIDIA was able to show that their network's inner weights had high activations to road boundary lines by comparing feature maps from an image with a clear path to one without. Try experimenting with a similar test to show that your trained network's weights are looking for interesting features, whether it's looking at differences in feature maps from images with or without a sign, or even what feature maps look like in a trained network vs a completely untrained one on the same sign image.\n",
    "\n",
    "<figure>\n",
    " <img src=\"visualize_cnn.png\" width=\"380\" alt=\"Combined Image\" />\n",
    " <figcaption>\n",
    " <p></p> \n",
    " <p style=\"text-align: center;\"> Your output should look something like this (above)</p> \n",
    " </figcaption>\n",
    "</figure>\n",
    " <p></p> \n"
   ]
  },
  {
   "cell_type": "code",
   "execution_count": 19,
   "metadata": {},
   "outputs": [],
   "source": [
    "### Visualize your network's feature maps here.\n",
    "### Feel free to use as many code cells as needed.\n",
    "\n",
    "# image_input: the test image being fed into the network to produce the feature maps\n",
    "# tf_activation: should be a tf variable name used during your training procedure that represents the calculated state of a specific weight layer\n",
    "# activation_min/max: can be used to view the activation contrast in more detail, by default matplot sets min and max to the actual min and max values of the output\n",
    "# plt_num: used to plot out multiple different weight feature map sets on the same block, just extend the plt number for each new feature map entry\n",
    "\n",
    "def outputFeatureMap(image_input, tf_activation, activation_min=-1, activation_max=-1 ,plt_num=1):\n",
    "    # Here make sure to preprocess your image_input in a way your network expects\n",
    "    # with size, normalization, ect if needed\n",
    "    # image_input =\n",
    "    # Note: x should be the same name as your network's tensorflow data placeholder variable\n",
    "    # If you get an error tf_activation is not defined it may be having trouble accessing the variable from inside a function\n",
    "    activation = tf_activation.eval(session=sess,feed_dict={x : image_input})\n",
    "    featuremaps = activation.shape[3]\n",
    "    plt.figure(plt_num, figsize=(15,15))\n",
    "    for featuremap in range(featuremaps):\n",
    "        plt.subplot(6,8, featuremap+1) # sets the number of feature maps to show on each row and column\n",
    "        plt.title('FeatureMap ' + str(featuremap)) # displays the feature map number\n",
    "        if activation_min != -1 & activation_max != -1:\n",
    "            plt.imshow(activation[0,:,:, featuremap], interpolation=\"nearest\", vmin =activation_min, vmax=activation_max, cmap=\"gray\")\n",
    "        elif activation_max != -1:\n",
    "            plt.imshow(activation[0,:,:, featuremap], interpolation=\"nearest\", vmax=activation_max, cmap=\"gray\")\n",
    "        elif activation_min !=-1:\n",
    "            plt.imshow(activation[0,:,:, featuremap], interpolation=\"nearest\", vmin=activation_min, cmap=\"gray\")\n",
    "        else:\n",
    "            plt.imshow(activation[0,:,:, featuremap], interpolation=\"nearest\", cmap=\"gray\")"
   ]
  }
 ],
 "metadata": {
  "anaconda-cloud": {},
  "kernelspec": {
   "display_name": "Python 3",
   "language": "python",
   "name": "python3"
  },
  "language_info": {
   "codemirror_mode": {
    "name": "ipython",
    "version": 3
   },
   "file_extension": ".py",
   "mimetype": "text/x-python",
   "name": "python",
   "nbconvert_exporter": "python",
   "pygments_lexer": "ipython3",
   "version": "3.6.3"
  }
 },
 "nbformat": 4,
 "nbformat_minor": 1
}
